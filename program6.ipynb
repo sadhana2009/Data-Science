{
 "cells": [
  {
   "cell_type": "code",
   "execution_count": 5,
   "id": "ed0d9698",
   "metadata": {},
   "outputs": [
    {
     "name": "stdout",
     "output_type": "stream",
     "text": [
      "Accuracy: 0.3333333333333333\n"
     ]
    }
   ],
   "source": [
    "import numpy as np\n",
    "import pandas as pd\n",
    "from sklearn.tree import DecisionTreeClassifier\n",
    "from sklearn.preprocessing import LabelEncoder\n",
    "from sklearn.model_selection import train_test_split\n",
    "from sklearn.metrics import accuracy_score\n",
    "\n",
    "data = [\n",
    " ['Low', 'Low', 2, 'No', 'Yes'],\n",
    " ['Low', 'Med', 4, 'Yes', 'Yes'],\n",
    " ['Low', 'Low', 4, 'No', 'Yes'],\n",
    " ['Low', 'Med', 4, 'No', 'No'],\n",
    " ['Low', 'High', 4, 'No', 'No'],\n",
    " ['Med', 'Med', 4, 'No', 'No'],\n",
    " ['Med', 'Med', 4, 'Yes', 'Yes'],\n",
    " ['Med', 'High', 2, 'Yes', 'No'],\n",
    " ['Med', 'High', 5, 'No', 'Yes'],\n",
    " ['High', 'Med', 4, 'Yes', 'Yes'],\n",
    " ['High', 'Med', 2, 'Yes', 'Yes'],\n",
    " ['High', 'High', 2, 'Yes', 'No'],\n",
    " ['High', 'High', 5, 'Yes', 'Yes']\n",
    "]\n",
    "\n",
    "import pandas as pd\n",
    "df = pd.DataFrame(data, columns=['Price', 'Maintenance', 'Capacity', 'Airbag', 'Profitable'])\n",
    "\n",
    "label_encoders = {}\n",
    "for column in ['Price', 'Maintenance', 'Airbag', 'Profitable']:\n",
    "    le = LabelEncoder()\n",
    "    df[column] = le.fit_transform(df[column])\n",
    "    label_encoders[column] = le\n",
    "\n",
    "X = df.drop(columns=['Profitable'])\n",
    "y = df['Profitable']\n",
    "\n",
    "X_train, X_test, y_train, y_test = train_test_split(X, y, test_size=0.2, random_state=42)\n",
    "\n",
    "clf = DecisionTreeClassifier(criterion='entropy') # ID3 algorithm uses information gain (entropy) for\n",
    "\n",
    "clf.fit(X_train, y_train)\n",
    "        \n",
    "y_pred = clf.predict(X_test)\n",
    "\n",
    "accuracy = accuracy_score(y_test, y_pred)\n",
    "print(\"Accuracy:\", accuracy)"
   ]
  },
  {
   "cell_type": "code",
   "execution_count": null,
   "id": "166337c6",
   "metadata": {},
   "outputs": [],
   "source": []
  }
 ],
 "metadata": {
  "kernelspec": {
   "display_name": "Python 3 (ipykernel)",
   "language": "python",
   "name": "python3"
  },
  "language_info": {
   "codemirror_mode": {
    "name": "ipython",
    "version": 3
   },
   "file_extension": ".py",
   "mimetype": "text/x-python",
   "name": "python",
   "nbconvert_exporter": "python",
   "pygments_lexer": "ipython3",
   "version": "3.11.3"
  }
 },
 "nbformat": 4,
 "nbformat_minor": 5
}
